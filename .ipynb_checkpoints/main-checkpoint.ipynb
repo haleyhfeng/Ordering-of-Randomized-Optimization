{
 "cells": [
  {
   "cell_type": "markdown",
   "metadata": {},
   "source": [
    "# Project 2: Random or not so random"
   ]
  },
  {
   "cell_type": "markdown",
   "metadata": {},
   "source": [
    "### Task 1"
   ]
  },
  {
   "cell_type": "code",
   "execution_count": 37,
   "metadata": {},
   "outputs": [],
   "source": [
    "import numpy as np\n",
    "from numpy import linalg as LA\n",
    "import matplotlib.pylab as plt"
   ]
  },
  {
   "cell_type": "code",
   "execution_count": 38,
   "metadata": {},
   "outputs": [
    {
     "data": {
      "text/plain": [
       "array([-0.02742284, -0.09993128, -0.00537445,  0.08129571, -0.09540617])"
      ]
     },
     "execution_count": 38,
     "metadata": {},
     "output_type": "execute_result"
    }
   ],
   "source": [
    "# generate a vector of random numbers which obeys the given distribution.\n",
    "#\n",
    "# n: length of the vector\n",
    "# mu: mean value\n",
    "# sigma: standard deviation.\n",
    "# dist: choices for the distribution, you need to implement at least normal \n",
    "#       distribution and uniform distribution.\n",
    "#\n",
    "# For normal distribution, you can use ``numpy.random.normal`` to generate.\n",
    "# For uniform distribution, the interval to sample will be [mu - sigma/sqrt(3), mu + sigma/sqrt(3)].\n",
    "\n",
    "def generate_random_numbers(n, mu, sigma, dist=\"normal\"):\n",
    "    # write your code here.\n",
    "    if dist == \"normal\":\n",
    "        return np.random.normal(mu, sigma, n)\n",
    "    elif dist == \"uniform\":\n",
    "        return np.random.uniform(mu - sigma/np.sqrt(3),mu + sigma/np.sqrt(3),n)\n",
    "    else:\n",
    "        raise Exception(\"The distribution {unknown_dist} is not implemented\".format(unknown_dist=dist))\n",
    "        \n",
    "        \n",
    "# test your code:\n",
    "y_test = generate_random_numbers(5, 0, 0.1, \"normal\")\n",
    "y_test"
   ]
  },
  {
   "cell_type": "code",
   "execution_count": 39,
   "metadata": {},
   "outputs": [],
   "source": [
    "y1 = generate_random_numbers(105, 0.5, 1.0, \"normal\")\n",
    "y2 = generate_random_numbers(105, 0.5, 1.0, \"uniform\")"
   ]
  },
  {
   "cell_type": "code",
   "execution_count": 122,
   "metadata": {},
   "outputs": [],
   "source": [
    "# IGD, the ordering is permitted to have replacement. \n",
    "#\n",
    "#\n",
    "def IGD_wr_task1(y): # repeat\n",
    "    x = 0\n",
    "    n = len(y)\n",
    "    ordering = np.random.choice(n, n, replace=True)\n",
    "    # implement the algorithm's iteration of IGD. Your result should return the the final xk\n",
    "    # at the last iteration and also the history of objective function at each xk.\n",
    "    f = np.empty(n) # empty array for histories \n",
    "    X = np.empty(n) # empty array for xk\n",
    "    for k in range(n):\n",
    "        gamma = 1/(k+1)\n",
    "        x = x - gamma*(x - y[ordering[k]])\n",
    "        f[k] = 0.5*np.sum((x - y)**2)\n",
    "        X[k] = x\n",
    "    return x, f, X\n",
    "        \n",
    "# IGD, the ordering is not permitted to have replacement.\n",
    "#\n",
    "#\n",
    "def IGD_wo_task1(y): # no repeat\n",
    "    x = 0\n",
    "    n = len(y)\n",
    "    ordering = np.random.choice(n, n, replace=False)\n",
    "    # implement the algorithm's iteration of IGD. Your result should return the the final xk\n",
    "    # at the last iteration and also the history of objective function at each xk.\n",
    "    f = np.empty(n)\n",
    "    X = np.empty(n)\n",
    "    for k in range(n):\n",
    "        gamma = 1/(k+1)\n",
    "        x = x - gamma*(x - y[ordering[k]])\n",
    "        f[k] = 0.5*np.sum((x - y)**2)\n",
    "        X[k] = x\n",
    "    return x, f, X"
   ]
  },
  {
   "cell_type": "code",
   "execution_count": 161,
   "metadata": {
    "scrolled": true
   },
   "outputs": [
    {
     "name": "stdout",
     "output_type": "stream",
     "text": [
      "Final x using placement: 0.5146522862088999\n",
      "Final x without using placement: 0.46294252860882495\n"
     ]
    },
    {
     "data": {
      "image/png": "[encoded data removed]",
      "text/plain": [
       "<Figure size 432x288 with 1 Axes>"
      ]
     },
     "metadata": {
      "needs_background": "light"
     },
     "output_type": "display_data"
    }
   ],
   "source": [
    "# Using y1\n",
    "x_wr, wr_solu, X1 = IGD_wr_task1(y1)\n",
    "print(\"Final x using placement:\", x_wr)\n",
    "x_wo, wo_solu, X2 = IGD_wo_task1(y1)\n",
    "print(\"Final x without using placement:\", x_wo)\n",
    "\n",
    "X = np.linspace(0,105,105)\n",
    "plt.plot(X,wr_solu)\n",
    "plt.plot(X,wo_solu)\n",
    "plt.legend([\"With Placement\",\"Without Placement\"])\n",
    "plt.show()"
   ]
  },
  {
   "cell_type": "code",
   "execution_count": 221,
   "metadata": {
    "scrolled": true
   },
   "outputs": [
    {
     "name": "stdout",
     "output_type": "stream",
     "text": [
      "0.25587813253521835\n",
      "0.5225037111978776\n",
      "0.5328122526530876\n",
      "\n",
      "0.1510027663252927\n",
      "0.36427696912444407\n",
      "0.4063308444025006\n"
     ]
    }
   ],
   "source": [
    "# Average of x with placement\n",
    "print(np.sum(X1[:5])/5) # first 5\n",
    "print(np.sum(X1[5:10])/5) # next 5\n",
    "print(np.sum(X1[10:15])/5) # next 5\n",
    "print()\n",
    "# Average of x without placement\n",
    "print(np.sum(X2[:5])/5)\n",
    "print(np.sum(X2[5:10])/5)\n",
    "print(np.sum(X2[10:15])/5)"
   ]
  },
  {
   "cell_type": "code",
   "execution_count": 174,
   "metadata": {
    "scrolled": true
   },
   "outputs": [
    {
     "name": "stdout",
     "output_type": "stream",
     "text": [
      "Final x using placement: 0.5253547070661342\n",
      "Final x without using placement: 0.48018414962800005\n"
     ]
    },
    {
     "data": {
      "image/png": "[encoded data removed]",
      "text/plain": [
       "<Figure size 432x288 with 1 Axes>"
      ]
     },
     "metadata": {
      "needs_background": "light"
     },
     "output_type": "display_data"
    }
   ],
   "source": [
    "# Using y2\n",
    "x_wr, wr_solu, X1 = IGD_wr_task1(y2)\n",
    "print(\"Final x using placement:\", x_wr)\n",
    "x_wo, wo_solu, X2 = IGD_wo_task1(y2)\n",
    "print(\"Final x without using placement:\", x_wo)\n",
    "\n",
    "X = np.linspace(0,105,105)\n",
    "plt.plot(X,wr_solu)\n",
    "plt.plot(X,wo_solu)\n",
    "plt.legend([\"With Placement\",\"Without Placement\"])\n",
    "plt.show()"
   ]
  },
  {
   "cell_type": "code",
   "execution_count": 176,
   "metadata": {},
   "outputs": [
    {
     "data": {
      "text/plain": [
       "array([0.03007208, 0.107045  , 0.07355094, 0.29530053, 0.24904527,\n",
       "       0.2732246 , 0.37460752, 0.33069607, 0.41259822, 0.43025843,\n",
       "       0.39527538, 0.39631585, 0.4024325 , 0.4347552 , 0.40287529,\n",
       "       0.40264966, 0.37652785, 0.415275  , 0.43954881, 0.45755837,\n",
       "       0.44607061, 0.45805712, 0.47189437, 0.45910092, 0.45428801,\n",
       "       0.44700795, 0.43309771, 0.45213159, 0.4561388 , 0.44013113,\n",
       "       0.43795609, 0.44107405, 0.44734686, 0.45703515, 0.44597188,\n",
       "       0.45578807, 0.44864303, 0.43845503, 0.42697889, 0.43328703,\n",
       "       0.44353771, 0.43736908, 0.44805616, 0.44113439, 0.43790098,\n",
       "       0.43524415, 0.44496184, 0.4574817 , 0.46202877, 0.46828617,\n",
       "       0.45799496, 0.46780408, 0.47499888, 0.4786858 , 0.48932005,\n",
       "       0.48818091, 0.489749  , 0.481332  , 0.4853055 , 0.49169448,\n",
       "       0.48382493, 0.47477722, 0.48189293, 0.49058791, 0.4991435 ,\n",
       "       0.4977821 , 0.49695077, 0.49892765, 0.49337272, 0.49780833,\n",
       "       0.50401639, 0.50049375, 0.50395232, 0.5009975 , 0.50595647,\n",
       "       0.50228205, 0.49641516, 0.49870638, 0.50201418, 0.50667326,\n",
       "       0.50695346, 0.50021047, 0.49665118, 0.4898703 , 0.49269712,\n",
       "       0.49922395, 0.49431978, 0.49068985, 0.48760249, 0.49040488,\n",
       "       0.48690067, 0.48555716, 0.48090671, 0.48603937, 0.49204246,\n",
       "       0.4935849 , 0.48858274, 0.48480014, 0.48354824, 0.48182875,\n",
       "       0.4798927 , 0.48161912, 0.47696023, 0.48133676, 0.48018415])"
      ]
     },
     "execution_count": 176,
     "metadata": {},
     "output_type": "execute_result"
    }
   ],
   "source": [
    "X2 # all xk "
   ]
  },
  {
   "cell_type": "code",
   "execution_count": 222,
   "metadata": {},
   "outputs": [
    {
     "name": "stdout",
     "output_type": "stream",
     "text": [
      "0.25587813253521835\n",
      "0.5225037111978776\n",
      "0.5328122526530876\n",
      "\n",
      "0.1510027663252927\n",
      "0.36427696912444407\n",
      "0.4063308444025006\n",
      "0.5030832870692274\n"
     ]
    }
   ],
   "source": [
    "# Average of x with placement\n",
    "print(np.sum(X1[:5])/5) # first 5\n",
    "print(np.sum(X1[5:10])/5) # next 5\n",
    "print(np.sum(X1[10:15])/5) # next 5\n",
    "print()\n",
    "# Average of x without placement\n",
    "print(np.sum(X2[:5])/5)\n",
    "print(np.sum(X2[5:10])/5)\n",
    "print(np.sum(X2[10:15])/5)\n",
    "print(np.sum(X2[70:75])/5) #average of x70 to x75"
   ]
  },
  {
   "cell_type": "markdown",
   "metadata": {},
   "source": [
    "Ordering without placement is better becase it can give a better approximation to the true solution and it converges steadily. \n",
    "To prove that IGD_wo_task1 must converge to the mean value of y, we can see from above that the average of the first 5 xk using without placement method is already approximating to our mean value 0.5. By induction, we can simply assume xk will converge to 0.5 which implies xk+1 will also converge to 0.5."
   ]
  },
  {
   "cell_type": "markdown",
   "metadata": {},
   "source": [
    "### Task 2"
   ]
  },
  {
   "cell_type": "code",
   "execution_count": 207,
   "metadata": {},
   "outputs": [],
   "source": [
    "# IGD, the ordering is permitted to have replacement. \n",
    "#\n",
    "#\n",
    "def IGD_wr_task2(y, beta):\n",
    "    x = 0\n",
    "    n = len(beta)\n",
    "    ordering = np.random.choice(n, n, replace=True)\n",
    "    f = np.empty(n)\n",
    "    gamma = 0.05*np.amin(1/beta)\n",
    "    for k in range(n):\n",
    "        x = x - gamma*beta[ordering[k]]*(x - y)\n",
    "        f[k] = 0.5*np.sum(beta*(x - y)**2)\n",
    "    return x, f\n",
    "\n",
    "# IGD, the ordering is not permitted to have replacement.\n",
    "#\n",
    "#\n",
    "def IGD_wo_task2(y, beta):\n",
    "    n = len(y)\n",
    "    ordering = np.random.choice(n, n, replace=False)\n",
    "    f = np.empty(n)\n",
    "    gamma = 0.05*np.amin(1/beta)\n",
    "    for k in range(n):\n",
    "        x = x - gamma*beta[ordering[k]]*(x - y)\n",
    "        f[k] = 0.5*np.sum(beta*(x - y)**2)\n",
    "    return x, f"
   ]
  },
  {
   "cell_type": "code",
   "execution_count": 212,
   "metadata": {
    "scrolled": true
   },
   "outputs": [
    {
     "name": "stdout",
     "output_type": "stream",
     "text": [
      "Final x using placement: 1.6990263525568896\n",
      "Final x without using placement: 1.7187697138713254\n"
     ]
    },
    {
     "data": {
      "image/png": "[encoded data removed]",
      "text/plain": [
       "<Figure size 432x288 with 1 Axes>"
      ]
     },
     "metadata": {
      "needs_background": "light"
     },
     "output_type": "display_data"
    }
   ],
   "source": [
    "N = 20\n",
    "beta = np.random.uniform(1,2,N)\n",
    "y = 2\n",
    "x_wr, wr_solu = IGD_wr_task2(y, beta)\n",
    "print(\"Final x using placement:\", x_wr)\n",
    "x_wo, wo_solu = IGD_wr_task2(y, beta)\n",
    "print(\"Final x without using placement:\", x_wo)\n",
    "\n",
    "X = np.linspace(0,N,N)\n",
    "plt.plot(X,wr_solu)\n",
    "plt.plot(X,wo_solu)\n",
    "plt.legend([\"With Placement\",\"Without Placement\"])\n",
    "plt.show()"
   ]
  },
  {
   "cell_type": "code",
   "execution_count": 214,
   "metadata": {
    "scrolled": false
   },
   "outputs": [
    {
     "name": "stdout",
     "output_type": "stream",
     "text": [
      "Final x using placement: 1.8987431078481665\n",
      "Final x without using placement: 1.8988646856477904\n"
     ]
    },
    {
     "data": {
      "image/png": "[encoded data removed]",
      "text/plain": [
       "<Figure size 432x288 with 1 Axes>"
      ]
     },
     "metadata": {
      "needs_background": "light"
     },
     "output_type": "display_data"
    }
   ],
   "source": [
    "N = 80\n",
    "beta = np.random.uniform(1,2,N)\n",
    "y = 2\n",
    "x_wr, wr_solu = IGD_wr_task2(y, beta)\n",
    "print(\"Final x using placement:\", x_wr)\n",
    "x_wo, wo_solu = IGD_wr_task2(y, beta)\n",
    "print(\"Final x without using placement:\", x_wo)\n",
    "\n",
    "X = np.linspace(0,N,N)\n",
    "plt.plot(X,wr_solu)\n",
    "plt.plot(X,wo_solu)\n",
    "plt.legend([\"With Placement\",\"Without Placement\"])\n",
    "plt.show()"
   ]
  },
  {
   "cell_type": "markdown",
   "metadata": {},
   "source": [
    "The true solution should approach whichever value we pick for y. In this case, y = 2 and thus the final x is roughly less than 0.5 away from our y value using 20 iteration (N=20). When N=80, final x is even closer to y = 2. In both cases, without placement works better since it approaches faster to the true solution than with placement. We can also see from the plot that the histories of the second method is always beneath the first method. "
   ]
  },
  {
   "cell_type": "markdown",
   "metadata": {},
   "source": [
    "### Task 3"
   ]
  },
  {
   "cell_type": "code",
   "execution_count": 215,
   "metadata": {},
   "outputs": [],
   "source": [
    "# generation of exact solution and data y and matrix A.\n",
    "\n",
    "def generate_problem_task3(m, n, rho):\n",
    "    A = np.random.normal(0., 1.0, (m, n))\n",
    "    x = np.random.random(n) # uniform in (0,1)\n",
    "    w = np.random.normal(0., rho, m)\n",
    "    y = A@x + w\n",
    "    return A, x, y\n",
    "\n",
    "# We generate the problem with 200x100 matrix. rho as 0.01.\n",
    "#\n",
    "A, xstar, y = generate_problem_task3(200, 100, 0.01)"
   ]
  },
  {
   "cell_type": "code",
   "execution_count": 216,
   "metadata": {},
   "outputs": [],
   "source": [
    "# In these two functions, we could only focus on the first n steps and try to make comparisons on these data only.\n",
    "# In practice, it requires more iterations to converge, due to the matrix might not be easy to deal with.\n",
    "# You can put the ordering loop into a naive loop: namely, we simply perform the IGD code several rounds.\n",
    "#\n",
    "#\n",
    "#\n",
    "# IGD, the ordering is permitted to have replacement. \n",
    "#\n",
    "#\n",
    "def IGD_wr_task3(y, A, xstar):\n",
    "    n = A.shape[1]\n",
    "    m = A.shape[0]\n",
    "    x = np.zeros(n)\n",
    "    ordering = np.random.choice(n, n, replace=True)\n",
    "    f = np.empty(n)\n",
    "    conv = np.empty(n)\n",
    "    gamma = 1e-3\n",
    "    for i in range(3): # performing IGD for three rounds\n",
    "        for k in range(n):\n",
    "            x = x - gamma*A[ordering[k]]*(A[ordering[k]]@x - y[ordering[k]])\n",
    "            f[k] = np.sum((A@x - y)**2)\n",
    "            conv[k] = LA.norm(x - xstar)\n",
    "    return x, f, conv \n",
    "\n",
    "# IGD, the ordering is not permitted to have replacement.\n",
    "#\n",
    "#\n",
    "def IGD_wo_task3(y, A, xstar):\n",
    "    n = A.shape[1]\n",
    "    x = np.zeros(n)\n",
    "    ordering = np.random.choice(n, n, replace=False)\n",
    "    f = np.empty(n)\n",
    "    conv = np.empty(n)\n",
    "    gamma = 1e-3\n",
    "    for i in range(3): # performing IGD for three rounds\n",
    "        for k in range(n):\n",
    "            x = x - gamma*A[ordering[k]]*(A[ordering[k]]@x - y[ordering[k]])\n",
    "            f[k] = np.sum((A@x - y)**2)\n",
    "            conv[k] = LA.norm(x - xstar)\n",
    "    return x, f, conv"
   ]
  },
  {
   "cell_type": "code",
   "execution_count": 219,
   "metadata": {
    "scrolled": true
   },
   "outputs": [
    {
     "data": {
      "image/png": "[encoded data removed]",
      "text/plain": [
       "<Figure size 432x288 with 1 Axes>"
      ]
     },
     "metadata": {
      "needs_background": "light"
     },
     "output_type": "display_data"
    }
   ],
   "source": [
    "N = A.shape[1]\n",
    "x_wr, wr_solu, wr_conv = IGD_wr_task3(y, A, xstar)\n",
    "x_wo, wo_solu, wo_conv = IGD_wo_task3(y, A, xstar)\n",
    "\n",
    "X = np.linspace(0,N,N)\n",
    "plt.plot(X,wr_solu)\n",
    "plt.plot(X,wo_solu)\n",
    "plt.legend([\"With Placement\",\"Without Placement\"])\n",
    "plt.show()"
   ]
  },
  {
   "cell_type": "code",
   "execution_count": 220,
   "metadata": {
    "scrolled": true
   },
   "outputs": [
    {
     "data": {
      "image/png": "[encoded data removed]",
      "text/plain": [
       "<Figure size 432x288 with 1 Axes>"
      ]
     },
     "metadata": {
      "needs_background": "light"
     },
     "output_type": "display_data"
    }
   ],
   "source": [
    "# Histories of norm(xk - xstar) \n",
    "X = np.linspace(0,N,N)\n",
    "plt.plot(X,wr_conv)\n",
    "plt.plot(X,wo_conv)\n",
    "plt.legend([\"With Placement\",\"Without Placement\"])\n",
    "plt.show()"
   ]
  },
  {
   "cell_type": "markdown",
   "metadata": {},
   "source": [
    "Ordering without placement is still better because we can observe how the plot of with placement is always above the plot of without placement. This indicates the second method converges faster to the true solution than the first method. "
   ]
  }
 ],
 "metadata": {
  "kernelspec": {
   "display_name": "Python 3",
   "language": "python",
   "name": "python3"
  },
  "language_info": {
   "codemirror_mode": {
    "name": "ipython",
    "version": 3
   },
   "file_extension": ".py",
   "mimetype": "text/x-python",
   "name": "python",
   "nbconvert_exporter": "python",
   "pygments_lexer": "ipython3",
   "version": "3.7.1"
  }
 },
 "nbformat": 4,
 "nbformat_minor": 2
}
